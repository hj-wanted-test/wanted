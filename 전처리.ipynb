{
 "cells": [
  {
   "cell_type": "code",
   "id": "initial_id",
   "metadata": {
    "collapsed": true
   },
   "source": [
    "import pandas as pd\n",
    "import json"
   ],
   "outputs": [],
   "execution_count": null
  },
  {
   "metadata": {},
   "cell_type": "code",
   "source": [
    "df = pd.read_csv(\"company_tag_sample.csv\")\n",
    "df"
   ],
   "id": "137770b8f309e7f7",
   "outputs": [],
   "execution_count": null
  },
  {
   "metadata": {},
   "cell_type": "code",
   "source": [
    "with open(\"company_tag_sample.json\", \"w\") as f:\n",
    "    for idx, row in df.iterrows():\n",
    "        company_name = {x: row[f\"company_{x}\"] for x in [\"ko\", \"en\", \"ja\"] if not pd.isna(row[f\"company_{x}\"])}\n",
    "        tags = {x: row[f\"tag_{x}\"].split(\"|\") for x in [\"ko\", \"en\", \"ja\"]}\n",
    "\n",
    "        tag_list = []\n",
    "        for idx, tag in enumerate(tags[\"ko\"]):\n",
    "            tags_dict = {\n",
    "                \"tag_name\":\n",
    "                    {\n",
    "                        \"ko\": tag,\n",
    "                        \"en\": tags[\"en\"][idx],\n",
    "                        \"ja\": tags[\"ja\"][idx],\n",
    "                    }\n",
    "                }\n",
    "            tag_list.append(tags_dict)\n",
    "        data = {\n",
    "            \"company_name\": company_name,\n",
    "            \"tags\": tag_list,\n",
    "        }\n",
    "\n",
    "        f.write(json.dumps(data, ensure_ascii=False) + \"\\n\")\n",
    "print(\"done!\")"
   ],
   "id": "55ef6641f7414595",
   "outputs": [],
   "execution_count": null
  },
  {
   "metadata": {},
   "cell_type": "code",
   "source": [
    "with open(\"company_tag_sample.json\", \"r\") as f:\n",
    "    print(f.read())"
   ],
   "id": "404a76bd4a0fe9e4",
   "outputs": [],
   "execution_count": null
  }
 ],
 "metadata": {
  "kernelspec": {
   "display_name": "Python 3",
   "language": "python",
   "name": "python3"
  },
  "language_info": {
   "codemirror_mode": {
    "name": "ipython",
    "version": 2
   },
   "file_extension": ".py",
   "mimetype": "text/x-python",
   "name": "python",
   "nbconvert_exporter": "python",
   "pygments_lexer": "ipython2",
   "version": "2.7.6"
  }
 },
 "nbformat": 4,
 "nbformat_minor": 5
}
